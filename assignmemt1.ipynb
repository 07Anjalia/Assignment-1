{
 "cells": [
  {
   "cell_type": "code",
   "execution_count": null,
   "id": "1697bc7f-a6ce-4638-82c8-b1ae35fe4d12",
   "metadata": {},
   "outputs": [],
   "source": [
    "6. After running the following code, what does the variable bacon contain?\n",
    "bacon = 22\n",
    "bacon+1"
   ]
  },
  {
   "cell_type": "code",
   "execution_count": null,
   "id": "6dc28f65-df5c-4b05-a777-122a49fe9c11",
   "metadata": {},
   "outputs": [],
   "source": [
    "ANSWER="
   ]
  },
  {
   "cell_type": "code",
   "execution_count": 4,
   "id": "00b753d6-fe48-41a1-863a-b0bee194d76b",
   "metadata": {},
   "outputs": [
    {
     "name": "stdout",
     "output_type": "stream",
     "text": [
      "23\n"
     ]
    }
   ],
   "source": [
    "bacon = 22\n",
    "bacon + 1\n",
    "ans = bacon + 1\n",
    "print(ans)"
   ]
  },
  {
   "cell_type": "code",
   "execution_count": null,
   "id": "69e4e3bf-9ef9-4143-9c65-995d30366898",
   "metadata": {},
   "outputs": [],
   "source": []
  },
  {
   "cell_type": "code",
   "execution_count": null,
   "id": "af856872-3075-4909-8133-0670dd71977d",
   "metadata": {},
   "outputs": [],
   "source": []
  },
  {
   "cell_type": "code",
   "execution_count": null,
   "id": "83a086c9-d2e2-4585-b30b-849fa3baf165",
   "metadata": {},
   "outputs": [],
   "source": [
    "7. What should the values of the following two terms be?\n",
    "'spam'+'spamspam'\n",
    "'spam'*3"
   ]
  },
  {
   "cell_type": "code",
   "execution_count": null,
   "id": "3005611b-b021-47d9-a93f-dd6a1db9b330",
   "metadata": {},
   "outputs": [],
   "source": [
    "ANSWER="
   ]
  },
  {
   "cell_type": "code",
   "execution_count": 12,
   "id": "e21b03b4-d498-436d-97b8-9f1bd20bf824",
   "metadata": {},
   "outputs": [
    {
     "name": "stdout",
     "output_type": "stream",
     "text": [
      "spamspamspam\n"
     ]
    }
   ],
   "source": [
    "'spam' +'spamspam'\n",
    "'spam'* 3\n",
    "ans = 'spam'*3\n",
    "print(ans)"
   ]
  },
  {
   "cell_type": "code",
   "execution_count": null,
   "id": "4cc2b457-3b7b-4625-a712-dfb33d4c4d00",
   "metadata": {},
   "outputs": [],
   "source": []
  },
  {
   "cell_type": "code",
   "execution_count": null,
   "id": "3ea970be-4abc-4cff-86cc-6eea931c9132",
   "metadata": {},
   "outputs": [],
   "source": []
  },
  {
   "cell_type": "code",
   "execution_count": null,
   "id": "fa25985e-b536-4cbe-aaf4-c20bb6bd44dd",
   "metadata": {},
   "outputs": [],
   "source": [
    "9. What three functions can be used to get the integer, floating-point number, or string\n",
    "version of a value?"
   ]
  },
  {
   "cell_type": "code",
   "execution_count": null,
   "id": "b2f4a9e2-3269-4850-910e-39ca87e5f0e7",
   "metadata": {},
   "outputs": [],
   "source": [
    "ANSWER="
   ]
  },
  {
   "cell_type": "code",
   "execution_count": 1,
   "id": "2c8ed179-8d05-4860-9ac9-4373b4724c9e",
   "metadata": {},
   "outputs": [
    {
     "data": {
      "text/plain": [
       "23"
      ]
     },
     "execution_count": 1,
     "metadata": {},
     "output_type": "execute_result"
    }
   ],
   "source": [
    "int(23)"
   ]
  },
  {
   "cell_type": "code",
   "execution_count": 2,
   "id": "4d33897c-e0c4-40bf-b6ca-561aead3f845",
   "metadata": {},
   "outputs": [
    {
     "data": {
      "text/plain": [
       "33.5"
      ]
     },
     "execution_count": 2,
     "metadata": {},
     "output_type": "execute_result"
    }
   ],
   "source": [
    "float(33.5)"
   ]
  },
  {
   "cell_type": "code",
   "execution_count": 4,
   "id": "2a3ea539-1ca0-4e8e-973b-4c16febf1e16",
   "metadata": {},
   "outputs": [
    {
     "data": {
      "text/plain": [
       "'anjalia'"
      ]
     },
     "execution_count": 4,
     "metadata": {},
     "output_type": "execute_result"
    }
   ],
   "source": [
    "str(\"anjalia\")"
   ]
  },
  {
   "cell_type": "code",
   "execution_count": null,
   "id": "daf127bc-2e37-4b29-ab03-416e4ec20692",
   "metadata": {},
   "outputs": [],
   "source": []
  },
  {
   "cell_type": "code",
   "execution_count": null,
   "id": "bac07c2e-f8ab-41ba-97d9-1be9104a33fd",
   "metadata": {},
   "outputs": [],
   "source": []
  },
  {
   "cell_type": "code",
   "execution_count": null,
   "id": "c01aeb8c-71a0-42cd-9001-3e85ecdbc518",
   "metadata": {},
   "outputs": [],
   "source": [
    "10. Why does this expression cause an error? How can you fix it?\n",
    "'I have eaten'+ 99 + 'burritoes.'"
   ]
  },
  {
   "cell_type": "code",
   "execution_count": 5,
   "id": "50d4deaa-bd1e-42fe-856e-4e6518a5a4bb",
   "metadata": {},
   "outputs": [
    {
     "ename": "TypeError",
     "evalue": "can only concatenate str (not \"int\") to str",
     "output_type": "error",
     "traceback": [
      "\u001b[0;31m---------------------------------------------------------------------------\u001b[0m",
      "\u001b[0;31mTypeError\u001b[0m                                 Traceback (most recent call last)",
      "Cell \u001b[0;32mIn [5], line 1\u001b[0m\n\u001b[0;32m----> 1\u001b[0m \u001b[38;5;124;43m'\u001b[39;49m\u001b[38;5;124;43mI have eaten\u001b[39;49m\u001b[38;5;124;43m'\u001b[39;49m\u001b[38;5;241;43m+\u001b[39;49m\u001b[43m \u001b[49m\u001b[38;5;241;43m99\u001b[39;49m \u001b[38;5;241m+\u001b[39m \u001b[38;5;124m'\u001b[39m\u001b[38;5;124mburritoes.\u001b[39m\u001b[38;5;124m'\u001b[39m\n",
      "\u001b[0;31mTypeError\u001b[0m: can only concatenate str (not \"int\") to str"
     ]
    }
   ],
   "source": [
    "'I have eaten'+ 99 + 'burritoes.'"
   ]
  },
  {
   "cell_type": "code",
   "execution_count": null,
   "id": "24e5c0f8-73ce-48b3-8bf7-0cddc6704df0",
   "metadata": {},
   "outputs": [],
   "source": [
    "The expression causes an error because 99 is an integer, and only strings can be concatenated to other strings with the + operator. "
   ]
  },
  {
   "cell_type": "code",
   "execution_count": 13,
   "id": "54fdd95c-b96c-4cda-8629-db3cd80cc5c9",
   "metadata": {},
   "outputs": [
    {
     "data": {
      "text/plain": [
       "'I have eaten 99 burritoes.'"
      ]
     },
     "execution_count": 13,
     "metadata": {},
     "output_type": "execute_result"
    }
   ],
   "source": [
    "'I have eaten '+ str(99) + ' burritoes.'"
   ]
  }
 ],
 "metadata": {
  "kernelspec": {
   "display_name": "Python 3 (ipykernel)",
   "language": "python",
   "name": "python3"
  },
  "language_info": {
   "codemirror_mode": {
    "name": "ipython",
    "version": 3
   },
   "file_extension": ".py",
   "mimetype": "text/x-python",
   "name": "python",
   "nbconvert_exporter": "python",
   "pygments_lexer": "ipython3",
   "version": "3.10.6"
  }
 },
 "nbformat": 4,
 "nbformat_minor": 5
}
